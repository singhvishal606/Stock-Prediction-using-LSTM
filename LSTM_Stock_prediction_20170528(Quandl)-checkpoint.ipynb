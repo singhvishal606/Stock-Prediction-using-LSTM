{
 "cells": [
  {
   "cell_type": "code",
   "execution_count": 196,
   "metadata": {},
   "outputs": [],
   "source": [
    "import seaborn as sns\n",
    "import numpy as np\n",
    "import matplotlib.pyplot as plt\n",
    "import matplotlib.pyplot as plt2\n",
    "import pandas as pd\n",
    "from pandas import datetime\n",
    "import math\n",
    "from sklearn import preprocessing\n",
    "import sklearn.metrics as met\n",
    "from math import sqrt\n",
    "from keras.models import Sequential\n",
    "from keras.layers.core import Dense, Dropout, Activation\n",
    "from keras.layers.recurrent import LSTM\n",
    "import keras\n",
    "import quandl\n",
    "from keras.layers import Convolution1D\n",
    "from keras.layers.normalization import BatchNormalization"
   ]
  },
  {
   "cell_type": "code",
   "execution_count": 197,
   "metadata": {
    "collapsed": true
   },
   "outputs": [],
   "source": [
    "quandl.ApiConfig.api_key = '8CDL22eUyzxYBQEwLNzF'\n",
    "#case 1\n",
    "\n",
    "seq_len = 22\n",
    "shape = [seq_len, 7]#[seq_len, 9, 1]\n",
    "neurons = [256, 256, 32, 1]\n",
    "dropout = 0.3\n",
    "decay = 0.5\n",
    "epochs = 3\n",
    "stock_name = 'AAPL'\n",
    "fig=plt.figure()\n",
    "# quandl.ApiConfig.api_key = '8CDL22eUyzxYBQEwLNzF'\n",
    "# quandl.get('NSE/ASTRON', start_date='2017-12-29', end_date='2017-12-29')\n",
    "# quandl.get('NSE/ASTRON', column_index='1')"
   ]
  },
  {
   "cell_type": "code",
   "execution_count": 198,
   "metadata": {},
   "outputs": [],
   "source": [
    "df = quandl.get('WIKI/AAPL', start_date='2000-1-01')\n"
   ]
  },
  {
   "cell_type": "code",
   "execution_count": 199,
   "metadata": {},
   "outputs": [
    {
     "data": {
      "text/html": [
       "<div>\n",
       "<style>\n",
       "    .dataframe thead tr:only-child th {\n",
       "        text-align: right;\n",
       "    }\n",
       "\n",
       "    .dataframe thead th {\n",
       "        text-align: left;\n",
       "    }\n",
       "\n",
       "    .dataframe tbody tr th {\n",
       "        vertical-align: top;\n",
       "    }\n",
       "</style>\n",
       "<table border=\"1\" class=\"dataframe\">\n",
       "  <thead>\n",
       "    <tr style=\"text-align: right;\">\n",
       "      <th></th>\n",
       "      <th>Open</th>\n",
       "      <th>High</th>\n",
       "      <th>Low</th>\n",
       "      <th>Close</th>\n",
       "      <th>Volume</th>\n",
       "      <th>Ex-Dividend</th>\n",
       "      <th>Split Ratio</th>\n",
       "      <th>Adj. Open</th>\n",
       "      <th>Adj. High</th>\n",
       "      <th>Adj. Low</th>\n",
       "      <th>Adj. Close</th>\n",
       "      <th>Adj. Volume</th>\n",
       "    </tr>\n",
       "    <tr>\n",
       "      <th>Date</th>\n",
       "      <th></th>\n",
       "      <th></th>\n",
       "      <th></th>\n",
       "      <th></th>\n",
       "      <th></th>\n",
       "      <th></th>\n",
       "      <th></th>\n",
       "      <th></th>\n",
       "      <th></th>\n",
       "      <th></th>\n",
       "      <th></th>\n",
       "      <th></th>\n",
       "    </tr>\n",
       "  </thead>\n",
       "  <tbody>\n",
       "    <tr>\n",
       "      <th>2000-01-03</th>\n",
       "      <td>104.87</td>\n",
       "      <td>112.50</td>\n",
       "      <td>101.69</td>\n",
       "      <td>111.94</td>\n",
       "      <td>4783900.0</td>\n",
       "      <td>0.0</td>\n",
       "      <td>1.0</td>\n",
       "      <td>3.369314</td>\n",
       "      <td>3.614454</td>\n",
       "      <td>3.267146</td>\n",
       "      <td>3.596463</td>\n",
       "      <td>133949200.0</td>\n",
       "    </tr>\n",
       "    <tr>\n",
       "      <th>2000-01-04</th>\n",
       "      <td>108.25</td>\n",
       "      <td>110.62</td>\n",
       "      <td>101.19</td>\n",
       "      <td>102.50</td>\n",
       "      <td>4574800.0</td>\n",
       "      <td>0.0</td>\n",
       "      <td>1.0</td>\n",
       "      <td>3.477908</td>\n",
       "      <td>3.554053</td>\n",
       "      <td>3.251081</td>\n",
       "      <td>3.293170</td>\n",
       "      <td>128094400.0</td>\n",
       "    </tr>\n",
       "    <tr>\n",
       "      <th>2000-01-05</th>\n",
       "      <td>103.75</td>\n",
       "      <td>110.56</td>\n",
       "      <td>103.00</td>\n",
       "      <td>104.00</td>\n",
       "      <td>6949300.0</td>\n",
       "      <td>0.0</td>\n",
       "      <td>1.0</td>\n",
       "      <td>3.333330</td>\n",
       "      <td>3.552125</td>\n",
       "      <td>3.309234</td>\n",
       "      <td>3.341362</td>\n",
       "      <td>194580400.0</td>\n",
       "    </tr>\n",
       "    <tr>\n",
       "      <th>2000-01-06</th>\n",
       "      <td>106.12</td>\n",
       "      <td>107.00</td>\n",
       "      <td>95.00</td>\n",
       "      <td>95.00</td>\n",
       "      <td>6856900.0</td>\n",
       "      <td>0.0</td>\n",
       "      <td>1.0</td>\n",
       "      <td>3.409475</td>\n",
       "      <td>3.437748</td>\n",
       "      <td>3.052206</td>\n",
       "      <td>3.052206</td>\n",
       "      <td>191993200.0</td>\n",
       "    </tr>\n",
       "    <tr>\n",
       "      <th>2000-01-07</th>\n",
       "      <td>96.50</td>\n",
       "      <td>101.00</td>\n",
       "      <td>95.50</td>\n",
       "      <td>99.50</td>\n",
       "      <td>4113700.0</td>\n",
       "      <td>0.0</td>\n",
       "      <td>1.0</td>\n",
       "      <td>3.100399</td>\n",
       "      <td>3.244977</td>\n",
       "      <td>3.068270</td>\n",
       "      <td>3.196784</td>\n",
       "      <td>115183600.0</td>\n",
       "    </tr>\n",
       "  </tbody>\n",
       "</table>\n",
       "</div>"
      ],
      "text/plain": [
       "              Open    High     Low   Close     Volume  Ex-Dividend  \\\n",
       "Date                                                                 \n",
       "2000-01-03  104.87  112.50  101.69  111.94  4783900.0          0.0   \n",
       "2000-01-04  108.25  110.62  101.19  102.50  4574800.0          0.0   \n",
       "2000-01-05  103.75  110.56  103.00  104.00  6949300.0          0.0   \n",
       "2000-01-06  106.12  107.00   95.00   95.00  6856900.0          0.0   \n",
       "2000-01-07   96.50  101.00   95.50   99.50  4113700.0          0.0   \n",
       "\n",
       "            Split Ratio  Adj. Open  Adj. High  Adj. Low  Adj. Close  \\\n",
       "Date                                                                  \n",
       "2000-01-03          1.0   3.369314   3.614454  3.267146    3.596463   \n",
       "2000-01-04          1.0   3.477908   3.554053  3.251081    3.293170   \n",
       "2000-01-05          1.0   3.333330   3.552125  3.309234    3.341362   \n",
       "2000-01-06          1.0   3.409475   3.437748  3.052206    3.052206   \n",
       "2000-01-07          1.0   3.100399   3.244977  3.068270    3.196784   \n",
       "\n",
       "            Adj. Volume  \n",
       "Date                     \n",
       "2000-01-03  133949200.0  \n",
       "2000-01-04  128094400.0  \n",
       "2000-01-05  194580400.0  \n",
       "2000-01-06  191993200.0  \n",
       "2000-01-07  115183600.0  "
      ]
     },
     "execution_count": 199,
     "metadata": {},
     "output_type": "execute_result"
    }
   ],
   "source": [
    "df.head()"
   ]
  },
  {
   "cell_type": "code",
   "execution_count": 200,
   "metadata": {
    "collapsed": true
   },
   "outputs": [],
   "source": [
    "def get_stock_data(stock_name, normalize=True, ma=[]):\n",
    "    \n",
    "    df = quandl.get('WIKI/AAPL', start_date='2000-1-01')\n",
    "\n",
    "    df.drop([ 'Open', 'High', 'Low', 'Close', 'Ex-Dividend', 'Volume', 'Split Ratio','Adj. Volume'], 1, inplace=True)\n",
    "    #df.set_index('date', inplace=True)\n",
    "    \n",
    "    df.rename(columns={'Adj. Open': 'Open', 'Adj. High': 'High', 'Adj. Low': 'Low', 'Adj. Close': 'Close'}, inplace=True)\n",
    "    \n",
    "    # Percentage change\n",
    "    #df['Pct'] = df['Adj Close'].pct_change()\n",
    "    df.dropna(inplace=True)\n",
    "    \n",
    "    # Moving Average    \n",
    "    if ma != []:\n",
    "        for moving in ma:\n",
    "            df['{}ma'.format(moving)] = df['Close'].rolling(window=moving).mean()\n",
    "    df.dropna(inplace=True)\n",
    "    \n",
    "    if normalize:\n",
    "        min_max_scaler = preprocessing.MinMaxScaler()\n",
    "        df['Open'] = min_max_scaler.fit_transform(df.Open.values.reshape(-1,1))\n",
    "        df['High'] = min_max_scaler.fit_transform(df.High.values.reshape(-1,1))\n",
    "        df['Low'] = min_max_scaler.fit_transform(df.Low.values.reshape(-1,1))\n",
    "        #df['Volume'] = min_max_scaler.fit_transform(df.Volume.values.reshape(-1,1))\n",
    "        df['Close'] = min_max_scaler.fit_transform(df.Close.values.reshape(-1,1))\n",
    "        if ma != []:\n",
    "            for moving in ma:\n",
    "                df['{}ma'.format(moving)] = min_max_scaler.fit_transform(df['{}ma'.format(moving)].values.reshape(-1,1))  \n",
    "                \n",
    "    # Move Adj Close to the rightmost \n",
    "    close = df['Close']\n",
    "    df.drop(labels=['Close'], axis=1, inplace=True)\n",
    "    df = pd.concat([df, close], axis=1)\n",
    "      \n",
    "    return df"
   ]
  },
  {
   "cell_type": "code",
   "execution_count": 201,
   "metadata": {},
   "outputs": [],
   "source": [
    "df = get_stock_data(stock_name, ma=[50, 100, 200])"
   ]
  },
  {
   "cell_type": "code",
   "execution_count": 202,
   "metadata": {},
   "outputs": [
    {
     "data": {
      "text/html": [
       "<div>\n",
       "<style>\n",
       "    .dataframe thead tr:only-child th {\n",
       "        text-align: right;\n",
       "    }\n",
       "\n",
       "    .dataframe thead th {\n",
       "        text-align: left;\n",
       "    }\n",
       "\n",
       "    .dataframe tbody tr th {\n",
       "        vertical-align: top;\n",
       "    }\n",
       "</style>\n",
       "<table border=\"1\" class=\"dataframe\">\n",
       "  <thead>\n",
       "    <tr style=\"text-align: right;\">\n",
       "      <th></th>\n",
       "      <th>Open</th>\n",
       "      <th>High</th>\n",
       "      <th>Low</th>\n",
       "      <th>50ma</th>\n",
       "      <th>100ma</th>\n",
       "      <th>200ma</th>\n",
       "      <th>Close</th>\n",
       "    </tr>\n",
       "    <tr>\n",
       "      <th>Date</th>\n",
       "      <th></th>\n",
       "      <th></th>\n",
       "      <th></th>\n",
       "      <th></th>\n",
       "      <th></th>\n",
       "      <th></th>\n",
       "      <th></th>\n",
       "    </tr>\n",
       "  </thead>\n",
       "  <tbody>\n",
       "    <tr>\n",
       "      <th>2000-10-16</th>\n",
       "      <td>0.003436</td>\n",
       "      <td>0.003666</td>\n",
       "      <td>0.003194</td>\n",
       "      <td>0.012260</td>\n",
       "      <td>0.013422</td>\n",
       "      <td>0.015827</td>\n",
       "      <td>0.003067</td>\n",
       "    </tr>\n",
       "    <tr>\n",
       "      <th>2000-10-17</th>\n",
       "      <td>0.003208</td>\n",
       "      <td>0.003188</td>\n",
       "      <td>0.002573</td>\n",
       "      <td>0.012051</td>\n",
       "      <td>0.013329</td>\n",
       "      <td>0.015753</td>\n",
       "      <td>0.002562</td>\n",
       "    </tr>\n",
       "    <tr>\n",
       "      <th>2000-10-18</th>\n",
       "      <td>0.002378</td>\n",
       "      <td>0.002868</td>\n",
       "      <td>0.002226</td>\n",
       "      <td>0.011850</td>\n",
       "      <td>0.013239</td>\n",
       "      <td>0.015689</td>\n",
       "      <td>0.002562</td>\n",
       "    </tr>\n",
       "    <tr>\n",
       "      <th>2000-10-19</th>\n",
       "      <td>0.002275</td>\n",
       "      <td>0.002412</td>\n",
       "      <td>0.002064</td>\n",
       "      <td>0.011635</td>\n",
       "      <td>0.013141</td>\n",
       "      <td>0.015620</td>\n",
       "      <td>0.002130</td>\n",
       "    </tr>\n",
       "    <tr>\n",
       "      <th>2000-10-20</th>\n",
       "      <td>0.002238</td>\n",
       "      <td>0.002616</td>\n",
       "      <td>0.002296</td>\n",
       "      <td>0.011424</td>\n",
       "      <td>0.013053</td>\n",
       "      <td>0.015562</td>\n",
       "      <td>0.002335</td>\n",
       "    </tr>\n",
       "  </tbody>\n",
       "</table>\n",
       "</div>"
      ],
      "text/plain": [
       "                Open      High       Low      50ma     100ma     200ma  \\\n",
       "Date                                                                     \n",
       "2000-10-16  0.003436  0.003666  0.003194  0.012260  0.013422  0.015827   \n",
       "2000-10-17  0.003208  0.003188  0.002573  0.012051  0.013329  0.015753   \n",
       "2000-10-18  0.002378  0.002868  0.002226  0.011850  0.013239  0.015689   \n",
       "2000-10-19  0.002275  0.002412  0.002064  0.011635  0.013141  0.015620   \n",
       "2000-10-20  0.002238  0.002616  0.002296  0.011424  0.013053  0.015562   \n",
       "\n",
       "               Close  \n",
       "Date                  \n",
       "2000-10-16  0.003067  \n",
       "2000-10-17  0.002562  \n",
       "2000-10-18  0.002562  \n",
       "2000-10-19  0.002130  \n",
       "2000-10-20  0.002335  "
      ]
     },
     "execution_count": 202,
     "metadata": {},
     "output_type": "execute_result"
    }
   ],
   "source": [
    "df.head()"
   ]
  },
  {
   "cell_type": "code",
   "execution_count": 203,
   "metadata": {
    "scrolled": true
   },
   "outputs": [
    {
     "data": {
      "text/html": [
       "<div>\n",
       "<style>\n",
       "    .dataframe thead tr:only-child th {\n",
       "        text-align: right;\n",
       "    }\n",
       "\n",
       "    .dataframe thead th {\n",
       "        text-align: left;\n",
       "    }\n",
       "\n",
       "    .dataframe tbody tr th {\n",
       "        vertical-align: top;\n",
       "    }\n",
       "</style>\n",
       "<table border=\"1\" class=\"dataframe\">\n",
       "  <thead>\n",
       "    <tr style=\"text-align: right;\">\n",
       "      <th></th>\n",
       "      <th>Open</th>\n",
       "      <th>High</th>\n",
       "      <th>Low</th>\n",
       "      <th>50ma</th>\n",
       "      <th>100ma</th>\n",
       "      <th>200ma</th>\n",
       "      <th>Close</th>\n",
       "    </tr>\n",
       "    <tr>\n",
       "      <th>Date</th>\n",
       "      <th></th>\n",
       "      <th></th>\n",
       "      <th></th>\n",
       "      <th></th>\n",
       "      <th></th>\n",
       "      <th></th>\n",
       "      <th></th>\n",
       "    </tr>\n",
       "  </thead>\n",
       "  <tbody>\n",
       "    <tr>\n",
       "      <th>2018-01-03</th>\n",
       "      <td>0.985196</td>\n",
       "      <td>0.984973</td>\n",
       "      <td>0.983337</td>\n",
       "      <td>0.991695</td>\n",
       "      <td>0.996183</td>\n",
       "      <td>0.995539</td>\n",
       "      <td>0.976136</td>\n",
       "    </tr>\n",
       "    <tr>\n",
       "      <th>2018-01-04</th>\n",
       "      <td>0.985253</td>\n",
       "      <td>0.978849</td>\n",
       "      <td>0.984027</td>\n",
       "      <td>0.993671</td>\n",
       "      <td>0.997268</td>\n",
       "      <td>0.996639</td>\n",
       "      <td>0.980692</td>\n",
       "    </tr>\n",
       "    <tr>\n",
       "      <th>2018-01-05</th>\n",
       "      <td>0.990417</td>\n",
       "      <td>0.989623</td>\n",
       "      <td>0.989600</td>\n",
       "      <td>0.995878</td>\n",
       "      <td>0.998337</td>\n",
       "      <td>0.997756</td>\n",
       "      <td>0.991912</td>\n",
       "    </tr>\n",
       "    <tr>\n",
       "      <th>2018-01-08</th>\n",
       "      <td>0.995639</td>\n",
       "      <td>0.990984</td>\n",
       "      <td>0.994656</td>\n",
       "      <td>0.997899</td>\n",
       "      <td>0.999223</td>\n",
       "      <td>0.998904</td>\n",
       "      <td>0.988210</td>\n",
       "    </tr>\n",
       "    <tr>\n",
       "      <th>2018-01-09</th>\n",
       "      <td>0.996787</td>\n",
       "      <td>0.987865</td>\n",
       "      <td>0.991669</td>\n",
       "      <td>1.000000</td>\n",
       "      <td>1.000000</td>\n",
       "      <td>1.000000</td>\n",
       "      <td>0.988096</td>\n",
       "    </tr>\n",
       "  </tbody>\n",
       "</table>\n",
       "</div>"
      ],
      "text/plain": [
       "                Open      High       Low      50ma     100ma     200ma  \\\n",
       "Date                                                                     \n",
       "2018-01-03  0.985196  0.984973  0.983337  0.991695  0.996183  0.995539   \n",
       "2018-01-04  0.985253  0.978849  0.984027  0.993671  0.997268  0.996639   \n",
       "2018-01-05  0.990417  0.989623  0.989600  0.995878  0.998337  0.997756   \n",
       "2018-01-08  0.995639  0.990984  0.994656  0.997899  0.999223  0.998904   \n",
       "2018-01-09  0.996787  0.987865  0.991669  1.000000  1.000000  1.000000   \n",
       "\n",
       "               Close  \n",
       "Date                  \n",
       "2018-01-03  0.976136  \n",
       "2018-01-04  0.980692  \n",
       "2018-01-05  0.991912  \n",
       "2018-01-08  0.988210  \n",
       "2018-01-09  0.988096  "
      ]
     },
     "execution_count": 203,
     "metadata": {},
     "output_type": "execute_result"
    }
   ],
   "source": [
    "df.tail()"
   ]
  },
  {
   "cell_type": "code",
   "execution_count": 204,
   "metadata": {},
   "outputs": [
    {
     "data": {
      "text/plain": [
       "Open     4333\n",
       "High     4333\n",
       "Low      4333\n",
       "50ma     4333\n",
       "100ma    4333\n",
       "200ma    4333\n",
       "Close    4333\n",
       "dtype: int64"
      ]
     },
     "execution_count": 204,
     "metadata": {},
     "output_type": "execute_result"
    }
   ],
   "source": [
    "df.count()"
   ]
  },
  {
   "cell_type": "code",
   "execution_count": 205,
   "metadata": {
    "collapsed": true
   },
   "outputs": [],
   "source": [
    "def plot_stock(df):\n",
    "    print(df.head())\n",
    "\n",
    "    plt.plot(df['Close'], color='red', label='Close')\n",
    "    plt.legend(loc='best')\n",
    "    \n",
    "    plt.show()\n",
    "    fig.savefig('stock.png')   "
   ]
  },
  {
   "cell_type": "code",
   "execution_count": 206,
   "metadata": {},
   "outputs": [
    {
     "name": "stdout",
     "output_type": "stream",
     "text": [
      "                Open      High       Low      50ma     100ma     200ma  \\\n",
      "Date                                                                     \n",
      "2000-10-16  0.003436  0.003666  0.003194  0.012260  0.013422  0.015827   \n",
      "2000-10-17  0.003208  0.003188  0.002573  0.012051  0.013329  0.015753   \n",
      "2000-10-18  0.002378  0.002868  0.002226  0.011850  0.013239  0.015689   \n",
      "2000-10-19  0.002275  0.002412  0.002064  0.011635  0.013141  0.015620   \n",
      "2000-10-20  0.002238  0.002616  0.002296  0.011424  0.013053  0.015562   \n",
      "\n",
      "               Close  \n",
      "Date                  \n",
      "2000-10-16  0.003067  \n",
      "2000-10-17  0.002562  \n",
      "2000-10-18  0.002562  \n",
      "2000-10-19  0.002130  \n",
      "2000-10-20  0.002335  \n"
     ]
    },
    {
     "data": {
      "image/png": "[encoded data removed]",
      "text/plain": [
       "<matplotlib.figure.Figure at 0x1d269dd3cc0>"
      ]
     },
     "metadata": {},
     "output_type": "display_data"
    }
   ],
   "source": [
    "plot_stock(df)"
   ]
  },
  {
   "cell_type": "code",
   "execution_count": 207,
   "metadata": {
    "scrolled": true
   },
   "outputs": [
    {
     "data": {
      "image/png": "[encoded data removed]",
      "text/plain": [
       "<matplotlib.figure.Figure at 0x1d267058c88>"
      ]
     },
     "metadata": {},
     "output_type": "display_data"
    }
   ],
   "source": [
    "\n",
    "corr = df.corr()\n",
    "ax = sns.heatmap(corr, cmap=\"YlGnBu\")\n",
    "plt.show()\n",
    "fig.savefig('heatmap.png')"
   ]
  },
  {
   "cell_type": "code",
   "execution_count": 208,
   "metadata": {
    "collapsed": true
   },
   "outputs": [],
   "source": [
    "def load_data(stock, seq_len):\n",
    "    amount_of_features = len(stock.columns)\n",
    "    print (\"Amount of features = {}\".format(amount_of_features))\n",
    "    data = stock.as_matrix()\n",
    "    sequence_length = seq_len + 1 # index starting from 0\n",
    "    result = []\n",
    "\n",
    "    for index in range(len(data) - sequence_length): # maxmimum date = lastest date - sequence length\n",
    "        result.append(data[index: index + sequence_length]) # index : index + 22days\n",
    "\n",
    "    result = np.array(result)\n",
    "    row = round(0.9 * result.shape[0]) # 80% split\n",
    "    print (\"Amount of training data = {}\".format(0.9 * result.shape[0]))\n",
    "    print (\"Amount of testing data = {}\".format(0.1 * result.shape[0]))\n",
    "\n",
    "    train = result[:int(row), :] # 90% date\n",
    "    X_train = train[:, :-1] # all data until day m\n",
    "    y_train = train[:, -1][:,-1] # day m + 1 adjusted close price\n",
    "\n",
    "    X_test = result[int(row):, :-1]\n",
    "    y_test = result[int(row):, -1][:,-1]\n",
    "\n",
    "    X_train = np.reshape(X_train, (X_train.shape[0], X_train.shape[1], amount_of_features))\n",
    "    X_test = np.reshape(X_test, (X_test.shape[0], X_test.shape[1], amount_of_features))\n",
    "\n",
    "    return [X_train, y_train, X_test, y_test]"
   ]
  },
  {
   "cell_type": "code",
   "execution_count": 209,
   "metadata": {
    "collapsed": true
   },
   "outputs": [],
   "source": [
    "# print(X_train.shape)\n",
    "# print(y_train.shape)\n",
    "# print(y_train)"
   ]
  },
  {
   "cell_type": "code",
   "execution_count": 210,
   "metadata": {},
   "outputs": [
    {
     "name": "stdout",
     "output_type": "stream",
     "text": [
      "Amount of features = 7\n",
      "Amount of training data = 3879.0\n",
      "Amount of testing data = 431.0\n"
     ]
    }
   ],
   "source": [
    "X_train, y_train, X_test, y_test = load_data(df, seq_len)"
   ]
  },
  {
   "cell_type": "code",
   "execution_count": 211,
   "metadata": {
    "collapsed": true
   },
   "outputs": [],
   "source": [
    "def build_model(shape, neurons, dropout, decay):\n",
    "    model = Sequential()\n",
    "    model.add(Convolution1D(input_shape = (shape[0], shape[1]),\n",
    "                        nb_filter=16,\n",
    "                        filter_length=4,\n",
    "                        border_mode='same'))\n",
    "    model.add(BatchNormalization())\n",
    "    model.add(LeakyReLU())\n",
    "    model.add(Dropout(0.5))\n",
    "    \n",
    "    model.add(LSTM(neurons[0], return_sequences=True))\n",
    "    model.add(Dropout(dropout))\n",
    "\n",
    "    model.add(LSTM(neurons[1], input_shape=(shape[0], shape[1]), return_sequences=False))\n",
    "    model.add(Dropout(dropout))\n",
    "\n",
    "    model.add(Dense(neurons[2],kernel_initializer=\"uniform\",activation='relu'))\n",
    "    model.add(Dense(neurons[3],kernel_initializer=\"uniform\",activation='linear'))\n",
    "    # model = load_model('my_LSTM_stock_model1000.h5')\n",
    "    adam = keras.optimizers.Adam(decay=decay)\n",
    "    model.compile(loss='mse',optimizer='adam', metrics=['accuracy'])\n",
    "    model.summary()\n",
    "    return model"
   ]
  },
  {
   "cell_type": "code",
   "execution_count": 212,
   "metadata": {},
   "outputs": [
    {
     "ename": "NameError",
     "evalue": "name 'WINDOW' is not defined",
     "output_type": "error",
     "traceback": [
      "\u001b[1;31m---------------------------------------------------------------------------\u001b[0m",
      "\u001b[1;31mNameError\u001b[0m                                 Traceback (most recent call last)",
      "\u001b[1;32m<ipython-input-212-a005e6c5dbb5>\u001b[0m in \u001b[0;36m<module>\u001b[1;34m()\u001b[0m\n\u001b[1;32m----> 1\u001b[1;33m \u001b[0mmodel\u001b[0m \u001b[1;33m=\u001b[0m \u001b[0mbuild_model\u001b[0m\u001b[1;33m(\u001b[0m\u001b[0mshape\u001b[0m\u001b[1;33m,\u001b[0m \u001b[0mneurons\u001b[0m\u001b[1;33m,\u001b[0m \u001b[0mdropout\u001b[0m\u001b[1;33m,\u001b[0m \u001b[0mdecay\u001b[0m\u001b[1;33m)\u001b[0m\u001b[1;33m\u001b[0m\u001b[0m\n\u001b[0m",
      "\u001b[1;32m<ipython-input-211-0ae4ce1e50f9>\u001b[0m in \u001b[0;36mbuild_model\u001b[1;34m(shape, neurons, dropout, decay)\u001b[0m\n\u001b[0;32m      1\u001b[0m \u001b[1;32mdef\u001b[0m \u001b[0mbuild_model\u001b[0m\u001b[1;33m(\u001b[0m\u001b[0mshape\u001b[0m\u001b[1;33m,\u001b[0m \u001b[0mneurons\u001b[0m\u001b[1;33m,\u001b[0m \u001b[0mdropout\u001b[0m\u001b[1;33m,\u001b[0m \u001b[0mdecay\u001b[0m\u001b[1;33m)\u001b[0m\u001b[1;33m:\u001b[0m\u001b[1;33m\u001b[0m\u001b[0m\n\u001b[0;32m      2\u001b[0m     \u001b[0mmodel\u001b[0m \u001b[1;33m=\u001b[0m \u001b[0mSequential\u001b[0m\u001b[1;33m(\u001b[0m\u001b[1;33m)\u001b[0m\u001b[1;33m\u001b[0m\u001b[0m\n\u001b[1;32m----> 3\u001b[1;33m     model.add(Convolution1D(input_shape = (WINDOW, EMB_SIZE),\n\u001b[0m\u001b[0;32m      4\u001b[0m                         \u001b[0mnb_filter\u001b[0m\u001b[1;33m=\u001b[0m\u001b[1;36m16\u001b[0m\u001b[1;33m,\u001b[0m\u001b[1;33m\u001b[0m\u001b[0m\n\u001b[0;32m      5\u001b[0m                         \u001b[0mfilter_length\u001b[0m\u001b[1;33m=\u001b[0m\u001b[1;36m4\u001b[0m\u001b[1;33m,\u001b[0m\u001b[1;33m\u001b[0m\u001b[0m\n",
      "\u001b[1;31mNameError\u001b[0m: name 'WINDOW' is not defined"
     ]
    }
   ],
   "source": [
    "model = build_model(shape, neurons, dropout, decay)"
   ]
  },
  {
   "cell_type": "code",
   "execution_count": null,
   "metadata": {
    "scrolled": false
   },
   "outputs": [],
   "source": [
    "model.fit(\n",
    "    X_train,\n",
    "    y_train,\n",
    "    batch_size=512,\n",
    "    epochs=epochs,\n",
    "    validation_split=0.2,\n",
    "    verbose=1)"
   ]
  },
  {
   "cell_type": "code",
   "execution_count": null,
   "metadata": {
    "collapsed": true
   },
   "outputs": [],
   "source": [
    "def model_score(model, X_train, y_train, X_test, y_test):\n",
    "    trainScore = model.evaluate(X_train, y_train, verbose=0)\n",
    "    print('Train Score: %.5f MSE (%.2f RMSE)' % (trainScore[0], math.sqrt(trainScore[0])))\n",
    "\n",
    "    testScore = model.evaluate(X_test, y_test, verbose=0)\n",
    "    print('Test Score: %.5f MSE (%.2f RMSE)' % (testScore[0], math.sqrt(testScore[0])))\n",
    "    return trainScore[0], testScore[0]"
   ]
  },
  {
   "cell_type": "code",
   "execution_count": null,
   "metadata": {},
   "outputs": [],
   "source": [
    "model_score(model, X_train, y_train, X_test, y_test)"
   ]
  },
  {
   "cell_type": "code",
   "execution_count": null,
   "metadata": {
    "collapsed": true
   },
   "outputs": [],
   "source": [
    "p = model.predict(X_test)    "
   ]
  },
  {
   "cell_type": "code",
   "execution_count": null,
   "metadata": {},
   "outputs": [],
   "source": [
    "met.mean_squared_error(y_test,p)\n",
    "#met.accuracy_score(y_test,p)"
   ]
  },
  {
   "cell_type": "code",
   "execution_count": null,
   "metadata": {
    "collapsed": true
   },
   "outputs": [],
   "source": [
    "def denormalize(stock_name, normalized_value):\n",
    "    \n",
    "    df = quandl.get_table('WIKI/PRICES', ticker = stock_name)\n",
    "    df.drop(['ticker', 'open', 'high', 'low', 'close', 'ex-dividend', 'volume', 'split_ratio'], 1, inplace=True)\n",
    "\n",
    "    df.set_index('date', inplace=True)\n",
    "    \n",
    "    # Renaming all the columns so that we can use the old version code\n",
    "    df.rename(columns={'adj_open': 'Open', 'adj_high': 'High', 'adj_low': 'Low', 'adj_volume': 'Volume', 'adj_close': 'Close'}, inplace=True)\n",
    "    \n",
    "    df.dropna(inplace=True)\n",
    "    df = df['Close'].values.reshape(-1,1)\n",
    "    normalized_value = normalized_value.reshape(-1,1)\n",
    "\n",
    "    \n",
    "    min_max_scaler = preprocessing.MinMaxScaler()\n",
    "    a = min_max_scaler.fit_transform(df)\n",
    "    new = min_max_scaler.inverse_transform(normalized_value)\n",
    "      \n",
    "    return new"
   ]
  },
  {
   "cell_type": "code",
   "execution_count": null,
   "metadata": {
    "collapsed": true
   },
   "outputs": [],
   "source": [
    "def plot_result(stock_name, normalized_value_p, normalized_value_y_test):\n",
    "    newp = denormalize(stock_name, normalized_value_p)\n",
    "    newy_test = denormalize(stock_name, normalized_value_y_test)\n",
    "    fig = plt2.figure()\n",
    "    plt2.plot(newp, color='red', label='Prediction')\n",
    "    plt2.plot(newy_test,color='blue', label='Actual')\n",
    "    plt2.legend(loc='best')\n",
    "    plt2.title('The test result for {}'.format(stock_name))\n",
    "    plt2.xlabel('Days')\n",
    "    plt2.ylabel('Close')\n",
    "    plt2.show()\n",
    "    fig.savefig('prediction.png')"
   ]
  },
  {
   "cell_type": "code",
   "execution_count": null,
   "metadata": {},
   "outputs": [],
   "source": [
    "plot_result(stock_name, p, y_test)"
   ]
  },
  {
   "cell_type": "code",
   "execution_count": null,
   "metadata": {
    "collapsed": true
   },
   "outputs": [],
   "source": [
    "def plot_result2(stock_name, normalized_value_p, normalized_value_y_test,img):\n",
    "    newp = denormalize(stock_name, normalized_value_p)\n",
    "    newy_test = denormalize(stock_name, normalized_value_y_test)\n",
    "    fig = plt2.figure()\n",
    "    plt2.plot(newp, color='red', label='Prediction')\n",
    "    plt2.plot(newy_test,color='blue', label='Actual')\n",
    "    plt2.legend(loc='best')\n",
    "    plt2.title('The test result for {}'.format(stock_name))\n",
    "    plt2.xlabel('Days')\n",
    "    plt2.ylabel('Close')\n",
    "    plt2.show()\n",
    "    fig.savefig(\"prediction %s.png\" % (img))"
   ]
  },
  {
   "cell_type": "code",
   "execution_count": null,
   "metadata": {},
   "outputs": [],
   "source": [
    "#case 2\n",
    "\n",
    "seq_len = 22\n",
    "shape = [seq_len,7]#[seq_len, 9, 1]\n",
    "neurons = [256, 256, 32, 1]\n",
    "dropout = 0.3\n",
    "decay = 0.5\n",
    "epochs = 90\n",
    "model = build_model(shape, neurons, dropout, decay)\n",
    "model.fit(X_train,y_train,batch_size=512,epochs=epochs,validation_split=0.2,verbose=1)\n",
    "model_score(model, X_train, y_train, X_test, y_test)\n",
    "img='neurons_'+str(neurons[0])+' '+str(neurons[1])+' '+str(neurons[2])+' '+str(neurons[3])+'drop_'+str(dropout)+'decay_'+str(decay)+'epoch_'+str(epochs)\n",
    "plot_result2(stock_name, p, y_test,img)"
   ]
  },
  {
   "cell_type": "code",
   "execution_count": null,
   "metadata": {},
   "outputs": [],
   "source": [
    "#case 3\n",
    "\n",
    "seq_len = 22\n",
    "shape = [seq_len,7]#[seq_len, 9, 1]\n",
    "neurons = [256, 256, 32, 1]\n",
    "dropout = 0.2\n",
    "decay = 0.2\n",
    "epochs = 90\n",
    "model = build_model(shape, neurons, dropout, decay)\n",
    "model.fit(X_train,y_train,batch_size=512,epochs=epochs,validation_split=0.2,verbose=1)\n",
    "model_score(model, X_train, y_train, X_test, y_test)\n",
    "img='neurons_'+str(neurons[0])+' '+str(neurons[1])+' '+str(neurons[2])+' '+str(neurons[3])+'drop_'+str(dropout)+'decay_'+str(decay)+'epoch_'+str(epochs)\n",
    "plot_result2(stock_name, p, y_test,img)"
   ]
  },
  {
   "cell_type": "code",
   "execution_count": null,
   "metadata": {},
   "outputs": [],
   "source": [
    "#case 4\n",
    "\n",
    "seq_len = 22\n",
    "shape = [seq_len,7]#[seq_len, 9, 1]\n",
    "neurons = [256, 128, 32, 1]\n",
    "dropout = 0.2\n",
    "decay = 0.2\n",
    "epochs = 90\n",
    "model = build_model(shape, neurons, dropout, decay)\n",
    "model.fit(X_train,y_train,batch_size=512,epochs=epochs,validation_split=0.2,verbose=1)\n",
    "model_score(model, X_train, y_train, X_test, y_test)\n",
    "img='neurons_'+str(neurons[0])+' '+str(neurons[1])+' '+str(neurons[2])+' '+str(neurons[3])+'drop_'+str(dropout)+'decay_'+str(decay)+'epoch_'+str(epochs)\n",
    "plot_result2(stock_name, p, y_test,img)"
   ]
  },
  {
   "cell_type": "code",
   "execution_count": null,
   "metadata": {},
   "outputs": [],
   "source": [
    "#case 5\n",
    "\n",
    "seq_len = 22\n",
    "shape = [seq_len,7]#[seq_len, 9, 1]\n",
    "neurons = [128, 64, 32, 1]\n",
    "dropout = 0.2\n",
    "decay = 0.2\n",
    "epochs = 90\n",
    "model = build_model(shape, neurons, dropout, decay)\n",
    "model.fit(X_train,y_train,batch_size=512,epochs=epochs,validation_split=0.2,verbose=1)\n",
    "model_score(model, X_train, y_train, X_test, y_test)\n",
    "img='neurons_'+str(neurons[0])+' '+str(neurons[1])+' '+str(neurons[2])+' '+str(neurons[3])+'drop_'+str(dropout)+'decay_'+str(decay)+'epoch_'+str(epochs)\n",
    "plot_result2(stock_name, p, y_test,img)"
   ]
  },
  {
   "cell_type": "code",
   "execution_count": null,
   "metadata": {},
   "outputs": [],
   "source": [
    "#case 6\n",
    "\n",
    "seq_len = 22\n",
    "shape = [seq_len,7]#[seq_len, 9, 1]\n",
    "neurons = [128, 64, 32, 1]\n",
    "dropout = 0.1\n",
    "decay = 0.1\n",
    "epochs = 90\n",
    "model = build_model(shape, neurons, dropout, decay)\n",
    "model.fit(X_train,y_train,batch_size=512,epochs=epochs,validation_split=0.2,verbose=1)\n",
    "model_score(model, X_train, y_train, X_test, y_test)\n",
    "img='neurons_'+str(neurons[0])+' '+str(neurons[1])+' '+str(neurons[2])+' '+str(neurons[3])+'drop_'+str(dropout)+'decay_'+str(decay)+'epoch_'+str(epochs)\n",
    "plot_result2(stock_name, p, y_test,img)"
   ]
  },
  {
   "cell_type": "code",
   "execution_count": null,
   "metadata": {},
   "outputs": [],
   "source": [
    "#case 7\n",
    "\n",
    "seq_len = 22\n",
    "shape = [seq_len,7]#[seq_len, 9, 1]\n",
    "neurons = [128, 64, 32, 1]\n",
    "dropout = 0.2\n",
    "decay = 0.5\n",
    "epochs = 90\n",
    "model = build_model(shape, neurons, dropout, decay)\n",
    "model.fit(X_train,y_train,batch_size=512,epochs=epochs,validation_split=0.2,verbose=1)\n",
    "model_score(model, X_train, y_train, X_test, y_test)\n",
    "img='neurons_'+str(neurons[0])+' '+str(neurons[1])+' '+str(neurons[2])+' '+str(neurons[3])+'drop_'+str(dropout)+'decay_'+str(decay)+'epoch_'+str(epochs)\n",
    "plot_result2(stock_name, p, y_test,img)"
   ]
  }
 ],
 "metadata": {
  "kernelspec": {
   "display_name": "Python 3",
   "language": "python",
   "name": "python3"
  },
  "language_info": {
   "codemirror_mode": {
    "name": "ipython",
    "version": 3
   },
   "file_extension": ".py",
   "mimetype": "text/x-python",
   "name": "python",
   "nbconvert_exporter": "python",
   "pygments_lexer": "ipython3",
   "version": "3.6.1"
  }
 },
 "nbformat": 4,
 "nbformat_minor": 2
}
